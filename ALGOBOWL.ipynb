{
 "cells": [
  {
   "cell_type": "code",
   "execution_count": 5,
   "id": "517d8c25",
   "metadata": {},
   "outputs": [
    {
     "name": "stdout",
     "output_type": "stream",
     "text": [
      "[['1', '2', '2'], ['1', '5', '2'], ['1', '4', '1'], ['2', '4', '1'], ['3', '4', '1'], ['5', '4', '1'], ['2', '3', '2']]\n"
     ]
    }
   ],
   "source": [
    "with open('input.txt', 'r') as fileIn:\n",
    "    data1 = fileIn.readline()\n",
    "    line = data1.split()\n",
    "    intLine = [int (i) for i in line]\n",
    "    parentVertices = intLine[0]\n",
    "    edges = intLine[1]\n",
    "    numOfRVertices = intLine[2]\n",
    "    \n",
    "    #second line\n",
    "    \n",
    "    data2 = fileIn.readline()\n",
    "    line2 = data1.split()\n",
    "    rVertices = [int (i) for i in line2]\n",
    "    \n",
    "    #list of all possible edges\n",
    "    edgesArray = []\n",
    "    for i in range(edges):\n",
    "        data3 = fileIn.readline()\n",
    "        line3 = data3.split()\n",
    "        edgesArray.append(line3)\n",
    "        \n",
    "    print(edgesArray)"
   ]
  },
  {
   "cell_type": "code",
   "execution_count": null,
   "id": "42c76e02",
   "metadata": {},
   "outputs": [],
   "source": [
    "#sort the edgesArray in nondecreasing order\n"
   ]
  }
 ],
 "metadata": {
  "kernelspec": {
   "display_name": "Python 3 (ipykernel)",
   "language": "python",
   "name": "python3"
  },
  "language_info": {
   "codemirror_mode": {
    "name": "ipython",
    "version": 3
   },
   "file_extension": ".py",
   "mimetype": "text/x-python",
   "name": "python",
   "nbconvert_exporter": "python",
   "pygments_lexer": "ipython3",
   "version": "3.9.12"
  }
 },
 "nbformat": 4,
 "nbformat_minor": 5
}
