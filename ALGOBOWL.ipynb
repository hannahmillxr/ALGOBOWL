{
 "cells": [
  {
   "cell_type": "code",
   "execution_count": 1,
   "id": "6c585437",
   "metadata": {},
   "outputs": [
    {
     "name": "stdout",
     "output_type": "stream",
     "text": [
      "[['1', '2', '2'], ['1', '5', '2'], ['1', '4', '1'], ['2', '4', '1'], ['3', '4', '1'], ['5', '4', '1'], ['2', '3', '2']]\n"
     ]
    }
   ],
   "source": [
    "with open('input.txt', 'r') as fileIn:\n",
    "    data1 = fileIn.readline()\n",
    "    line = data1.split()\n",
    "    intLine = [int (i) for i in line]\n",
    "    parentVertices = intLine[0]\n",
    "    edges = intLine[1]\n",
    "    numOfRVertices = intLine[2]\n",
    "    \n",
    "    #second line\n",
    "    \n",
    "    data2 = fileIn.readline()\n",
    "    line2 = data1.split()\n",
    "    rVertices = [int (i) for i in line2]\n",
    "    \n",
    "    #list of all possible edges\n",
    "    edgesArray = []\n",
    "    for i in range(edges):\n",
    "        data3 = fileIn.readline()\n",
    "        line3 = data3.split()\n",
    "        edgesArray.append(line3)\n",
    "        \n",
    "    print(edgesArray)"
   ]
  },
  {
   "cell_type": "code",
   "execution_count": 3,
   "id": "3a264d7a",
   "metadata": {},
   "outputs": [
    {
     "name": "stdout",
     "output_type": "stream",
     "text": [
      "[['1', '4', '1'], ['2', '4', '1'], ['3', '4', '1'], ['5', '4', '1'], ['1', '2', '2'], ['1', '5', '2'], ['2', '3', '2']]\n"
     ]
    }
   ],
   "source": [
    "#sort the edgesArray in nondecreasing order\n",
    "edgesArray.sort(key=lambda edgesArray: edgesArray[2])\n",
    "print(edgesArray)"
   ]
  },
  {
   "cell_type": "code",
   "execution_count": 20,
   "id": "109c5087",
   "metadata": {},
   "outputs": [],
   "source": [
    "import networkx as nx\n",
    "import random\n",
    "import matplotlib.pyplot as plt\n",
    "\n",
    "graph_file = \"custom_input.txt\"\n",
    "\n",
    "G = nx.Graph()\n",
    "\n",
    "wt_range = range(1,50)\n",
    "max_nodes = 1000\n",
    "max_edges = 100000\n",
    "\n",
    "# add max number of nodes\n",
    "G.add_nodes_from(range(1,max_nodes + 1))\n",
    "\n",
    "# build spanning tree\n",
    "for i in range(2,max_nodes + 1):\n",
    "    if(i == 2):\n",
    "        G.add_edge(i, 1, weight = random.choice(wt_range))\n",
    "    else:\n",
    "        G.add_edge(i, random.choice(range(1, i-1)), weight = random.choice(wt_range))\n",
    "\n",
    "# add other random edges\n",
    "for i in range(0, random.choice(range(1, max_edges))):\n",
    "    G.add_edge(random.choice(range(1, max_nodes)), random.choice(range(1, max_nodes)), weight = random.choice(wt_range))\n",
    "\n",
    "required_nodes = []\n",
    "for i in range(0, random.choice(range(1, max_nodes))):\n",
    "    required_nodes.append(random.choice(range(1, max_nodes)))\n",
    "\n",
    "# write graph to file\n",
    "nx.write_weighted_edgelist(G, graph_file)\n",
    "\n",
    "header = f'{max_nodes} {G.number_of_edges()} {len(required_nodes)}\\n'\n",
    "header += ' '.join(map(str, required_nodes)) + '\\n'\n",
    "\n",
    "# append metadata to start of file\n",
    "with open(graph_file, 'r+') as f:\n",
    "    old_content = f.read()\n",
    "    f.seek(0)\n",
    "    f.write(header + old_content)"
   ]
  },
  {
   "cell_type": "code",
   "execution_count": null,
   "id": "d90590dc",
   "metadata": {},
   "outputs": [],
   "source": []
  },
  {
   "cell_type": "code",
   "execution_count": null,
   "id": "2dd0d07e",
   "metadata": {},
   "outputs": [],
   "source": []
  }
 ],
 "metadata": {
  "kernelspec": {
   "display_name": "Python 3 (ipykernel)",
   "language": "python",
   "name": "python3"
  },
  "language_info": {
   "codemirror_mode": {
    "name": "ipython",
    "version": 3
   },
   "file_extension": ".py",
   "mimetype": "text/x-python",
   "name": "python",
   "nbconvert_exporter": "python",
   "pygments_lexer": "ipython3",
   "version": "3.9.6"
  }
 },
 "nbformat": 4,
 "nbformat_minor": 5
}
