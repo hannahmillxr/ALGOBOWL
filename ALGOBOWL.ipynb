{
 "cells": [
  {
   "cell_type": "code",
   "execution_count": 1,
   "id": "d35ff1e4",
   "metadata": {},
   "outputs": [],
   "source": [
    "import networkx as nx\n",
    "\n",
    "def print_for_graphviz(mst: list):\n",
    "    print(\"digraph G {\")\n",
    "    for edge in mst:\n",
    "        print(str(edge.u) + \" -> \" + str(edge.v) + \"[label=\" + str(edge.weight) + \"]\")\n",
    "    print(\"}\")\n",
    "\n",
    "#verification \n",
    "def subgraph(mst: list, parentEdgesArray:list):\n",
    "    for i in mst:\n",
    "        if i not in parentEdgesArray:\n",
    "            return False\n",
    "    return True\n",
    "\n",
    "#is_tree will test for cycles and connectivity\n",
    "def connected(mst:list):\n",
    "    Graph = nx.DiGraph()\n",
    "    for edge in mst:\n",
    "        Graph.add_edge(edge.u, edge.v)\n",
    "    if (nx.is_tree(Graph)==False):\n",
    "            return False    \n",
    "    return True\n",
    "\n",
    "def has_required_vertices(mst: list, required_vertices: list):\n",
    "    found_verts: set = set()\n",
    "    for e in mst:\n",
    "        if e.v in required_vertices:\n",
    "            found_verts.add(e.v)\n",
    "        if e.u in required_vertices:\n",
    "            found_verts.add(e.u)\n",
    "    return len(found_verts) == len(required_vertices)\n",
    "\n",
    "def cost_of_graph(mst: list):\n",
    "    cost = 0\n",
    "    for edge in mst:\n",
    "        cost += edge.weight\n",
    "    return cost\n",
    "\n",
    "def verify(mst: list, parentEdgesArray: list, required_vertices: list):\n",
    "    if (not subgraph(mst, parentEdgesArray)):\n",
    "        print(\"MST is not a subgraph of the parent graph\")\n",
    "    elif (not connected(mst)):\n",
    "        print(\"MST is not connected\")\n",
    "    elif (not has_required_vertices(mst, required_vertices)):\n",
    "        print(\"MST does not contain all required vertices\")\n",
    "    else:\n",
    "        print(\"MST is complete, is a subgraph of parent, and contains all required vertices\")\n"
   ]
  },
  {
   "cell_type": "code",
   "execution_count": 2,
   "id": "f3a2aa97",
   "metadata": {},
   "outputs": [],
   "source": [
    "class Edge():\n",
    "    def __init__(self,u: int, v: int, weight: int) -> None:\n",
    "        self.u = u \n",
    "        self.v = v\n",
    "        self.weight = weight\n",
    "\n",
    "class DSU(): \n",
    "    def __init__(self, num_verts: int): \n",
    "        self.parent = [i for i in range(num_verts)]\n",
    "        self.height = [1 for i in range(num_verts)]\n",
    "    \n",
    "    def find(self, x : int) -> int: \n",
    "        if x == self.parent[x]: \n",
    "            return x \n",
    "        self.parent[x] = self.find(self.parent[x]) \n",
    "        return self.parent[x]\n",
    "\n",
    "    def union(self,x: int, y: int) -> bool: \n",
    "        x = self.find(x) #replace with set id \n",
    "        y = self.find(y) \n",
    "        if x == y: \n",
    "            return False #not part of different components\n",
    "        if self.height[x] > self.height[y]: \n",
    "            self.parent[y] = x \n",
    "        elif self.height[x] == self.height[y]: \n",
    "            self.parent[y] = x \n",
    "            self.height[x]+=1 \n",
    "        else: \n",
    "            self.parent[x] = y \n",
    "        return True #part of different components \n",
    "\n",
    "\n",
    "def kruskals(edges: list, num_verts: int) -> list:\n",
    "    dsu = DSU(num_verts) \n",
    "    edges.sort(key = lambda edge: edge.weight)\n",
    "    mst = []\n",
    "    num_edges  = 0\n",
    "    index = 0   \n",
    "    while index < len(edges) and num_edges < num_verts-1: \n",
    "        if dsu.union(edges[index].u, edges[index].v):\n",
    "            mst.append(edges[index]) \n",
    "            num_edges+=1 \n",
    "        index+=1 \n",
    "    return mst"
   ]
  },
  {
   "cell_type": "code",
   "execution_count": 3,
   "id": "6c585437",
   "metadata": {},
   "outputs": [],
   "source": [
    "with open('custom_input.txt', 'r') as fileIn:\n",
    "    data1 = fileIn.readline()\n",
    "    line = data1.split()\n",
    "    intLine = [int (i) for i in line]\n",
    "    parentVertices = intLine[0]\n",
    "    edges = intLine[1]\n",
    "    numOfRVertices = intLine[2]\n",
    "    \n",
    "    #second line\n",
    "    data2 = fileIn.readline()\n",
    "    line2 = data2.split()\n",
    "    rVertices = [int (i) for i in line2]\n",
    "    \n",
    "    #list of all possible edges\n",
    "    edgesArray = []\n",
    "    for i in range(edges):\n",
    "        data3 = fileIn.readline()\n",
    "        line3 = data3.split()\n",
    "        edgesArray.append(Edge(int(line3[0])-1,int(line3[1])-1, int(line3[2])))\n",
    "    "
   ]
  },
  {
   "cell_type": "code",
   "execution_count": 4,
   "id": "3a264d7a",
   "metadata": {},
   "outputs": [
    {
     "name": "stdout",
     "output_type": "stream",
     "text": [
      "Cost of MST:  1101\n",
      "MST is complete, is a subgraph of parent, and contains all required vertices\n"
     ]
    }
   ],
   "source": [
    "mst = kruskals (edgesArray, parentVertices)\n",
    "print(\"Cost of MST: \", cost_of_graph(mst))\n",
    "\n",
    "# fix indexing to be 1-indexed\n",
    "for edge in mst:\n",
    "    edge.u += 1\n",
    "    edge.v += 1\n",
    "\n",
    "verify(mst, edgesArray, rVertices)\n",
    "\n"
   ]
  },
  {
   "cell_type": "code",
   "execution_count": null,
   "id": "ac2b9dfa",
   "metadata": {},
   "outputs": [],
   "source": []
  },
  {
   "cell_type": "code",
   "execution_count": 5,
   "id": "510809a2",
   "metadata": {},
   "outputs": [
    {
     "name": "stdout",
     "output_type": "stream",
     "text": [
      "Cost of MST:  587\n",
      "MST is complete, is a subgraph of parent, and contains all required vertices\n"
     ]
    }
   ],
   "source": [
    "def prune(mst: list, v: int):\n",
    "    for edge in mst:\n",
    "        if edge.v == v or edge.u == v:\n",
    "            mst.remove(edge)\n",
    "    return mst\n",
    "\n",
    "continue_pruning = True\n",
    "\n",
    "while(continue_pruning):\n",
    "    mst_size = len(mst)\n",
    "\n",
    "    G2 = nx.Graph()\n",
    "    for edge in mst:\n",
    "        G2.add_edge(edge.u, edge.v)\n",
    "\n",
    "    for v in G2.nodes():\n",
    "        if G2.degree[v] == 1 and v not in rVertices:\n",
    "            mst = prune(mst, v)\n",
    "\n",
    "    if mst_size == len(mst):\n",
    "        continue_pruning = False\n",
    "\n",
    "print(\"Cost of MST: \", cost_of_graph(mst))\n",
    "verify(mst, edgesArray, rVertices)\n"
   ]
  },
  {
   "cell_type": "code",
   "execution_count": null,
   "id": "d5193bec",
   "metadata": {},
   "outputs": [],
   "source": []
  },
  {
   "cell_type": "code",
   "execution_count": 6,
   "metadata": {},
   "outputs": [],
   "source": [
    "import make_input\n",
    "\n",
    "#make_input.make_input()"
   ]
  },
  {
   "cell_type": "code",
   "execution_count": null,
   "id": "6cb5daf6",
   "metadata": {},
   "outputs": [],
   "source": []
  },
  {
   "cell_type": "code",
   "execution_count": null,
   "id": "a291f51c",
   "metadata": {},
   "outputs": [],
   "source": []
  }
 ],
 "metadata": {
  "kernelspec": {
   "display_name": "Python 3 (ipykernel)",
   "language": "python",
   "name": "python3"
  },
  "language_info": {
   "codemirror_mode": {
    "name": "ipython",
    "version": 3
   },
   "file_extension": ".py",
   "mimetype": "text/x-python",
   "name": "python",
   "nbconvert_exporter": "python",
   "pygments_lexer": "ipython3",
   "version": "3.9.6"
  }
 },
 "nbformat": 4,
 "nbformat_minor": 5
}
